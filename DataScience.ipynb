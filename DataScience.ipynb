{
 "cells": [
  {
   "cell_type": "markdown",
   "metadata": {
    "id": "bUw2WkWydsWJ"
   },
   "source": [
    "# Data Science Tools and Ecosystem\n",
    "In this notebook, Data Science Tools and Ecosystem are summarized."
   ]
  },
  {
   "cell_type": "markdown",
   "metadata": {
    "id": "80l7t9cveizQ"
   },
   "source": [
    "Some of the popular languages that Data Scientists use are:\n",
    "\n",
    "\n",
    "1.   Python\n",
    "2.   R\n",
    "3.   Julia\n",
    "4.   SQL\n",
    "5.   JavaScript\n",
    "\n",
    "Some of the commonly used libraries used by Data Scientists include:\n",
    "\n",
    "1.   Pandas\n",
    "2.   Numpy\n",
    "3.   Pytorch\n",
    "4.   TensorFlow\n",
    "\n"
   ]
  },
  {
   "cell_type": "markdown",
   "metadata": {
    "id": "7SG2UTkdyZXM"
   },
   "source": [
    "#Objectives:\n",
    "\n",
    "\n",
    "*   List popular libraries for data science\n",
    "*   List popular development environments por Data Science\n",
    "*   Develop a short exercise to introduce how to use python commands\n",
    "*   Make a small table in a markdown\n",
    "\n"
   ]
  },
  {
   "cell_type": "markdown",
   "metadata": {
    "id": "K4_akGjZfwcu"
   },
   "source": [
    "**Tabla  **  \n",
    "\n",
    "| Open source tools|\n",
    "| :---------------- |\n",
    "|Rstudio|  \n",
    "|Apache Sparck|  \n",
    "|Tensor Flow|\n",
    "\n",
    "\n",
    "\n"
   ]
  },
  {
   "cell_type": "markdown",
   "metadata": {
    "id": "ZcwEqDbfw3o6"
   },
   "source": [
    "### Below are a few examples of evaluating arithmetic expressions in Python"
   ]
  },
  {
   "cell_type": "code",
   "execution_count": 4,
   "metadata": {
    "colab": {
     "base_uri": "https://localhost:8080/"
    },
    "id": "vcRtBQcPxO9k",
    "outputId": "0868e38f-d860-4fa0-edfb-477afb1b62ba"
   },
   "outputs": [
    {
     "data": {
      "text/plain": [
       "56244"
      ]
     },
     "execution_count": 4,
     "metadata": {},
     "output_type": "execute_result"
    }
   ],
   "source": [
    "327*172"
   ]
  },
  {
   "cell_type": "code",
   "execution_count": 5,
   "metadata": {
    "colab": {
     "base_uri": "https://localhost:8080/"
    },
    "id": "0N_SmvE5xkdZ",
    "outputId": "9a450551-316c-437f-8537-7d60f72e7739"
   },
   "outputs": [
    {
     "name": "stdout",
     "output_type": "stream",
     "text": [
      "2.4833333333333334\n"
     ]
    }
   ],
   "source": [
    "minutes = 149\n",
    "hours = minutes/60\n",
    "print(hours)"
   ]
  },
  {
   "cell_type": "markdown",
   "metadata": {
    "id": "iCmJijjEzfJb"
   },
   "source": [
    "##Author  \n",
    "panyorikome"
   ]
  },
  {
   "cell_type": "code",
   "execution_count": null,
   "metadata": {
    "id": "NQ4oSk0gzpS8"
   },
   "outputs": [],
   "source": []
  }
 ],
 "metadata": {
  "colab": {
   "provenance": []
  },
  "kernelspec": {
   "display_name": "Python 3",
   "language": "python",
   "name": "python3"
  },
  "language_info": {
   "codemirror_mode": {
    "name": "ipython",
    "version": 3
   },
   "file_extension": ".py",
   "mimetype": "text/x-python",
   "name": "python",
   "nbconvert_exporter": "python",
   "pygments_lexer": "ipython3",
   "version": "3.8.8"
  }
 },
 "nbformat": 4,
 "nbformat_minor": 1
}
