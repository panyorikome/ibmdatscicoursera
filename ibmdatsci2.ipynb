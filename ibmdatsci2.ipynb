{
  "metadata": {
    "language_info": {
      "codemirror_mode": {
        "name": "python",
        "version": 3
      },
      "file_extension": ".py",
      "mimetype": "text/x-python",
      "name": "python",
      "nbconvert_exporter": "python",
      "pygments_lexer": "ipython3",
      "version": "3.8"
    },
    "kernelspec": {
      "name": "python",
      "display_name": "Python (Pyodide)",
      "language": "python"
    }
  },
  "nbformat_minor": 4,
  "nbformat": 4,
  "cells": [
    {
      "cell_type": "markdown",
      "source": "data science tool and ecosystems",
      "metadata": {}
    },
    {
      "cell_type": "markdown",
      "source": "this line is an introduction",
      "metadata": {}
    },
    {
      "cell_type": "markdown",
      "source": "python\nr\nscala\njulia\nruby",
      "metadata": {}
    },
    {
      "cell_type": "markdown",
      "source": "pandas\nnumpy\nscikit-learn\nseaborn",
      "metadata": {}
    },
    {
      "cell_type": "markdown",
      "source": "some arithmetic expression examples",
      "metadata": {}
    },
    {
      "cell_type": "code",
      "source": "327*172",
      "metadata": {
        "trusted": true
      },
      "execution_count": 2,
      "outputs": [
        {
          "execution_count": 2,
          "output_type": "execute_result",
          "data": {
            "text/plain": "56244"
          },
          "metadata": {}
        }
      ]
    },
    {
      "cell_type": "code",
      "source": "minutes = 149\nhours = minutes/60\nprint(hours)",
      "metadata": {
        "trusted": true
      },
      "execution_count": 9,
      "outputs": [
        {
          "name": "stdout",
          "text": "2.4833333333333334\n",
          "output_type": "stream"
        }
      ]
    },
    {
      "cell_type": "markdown",
      "source": "objectives:\n-to become the king of pirates\n-eat",
      "metadata": {}
    },
    {
      "cell_type": "markdown",
      "source": "author : panyorikome",
      "metadata": {}
    }
  ]
}